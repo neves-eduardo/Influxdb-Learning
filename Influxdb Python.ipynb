{
 "cells": [
  {
   "cell_type": "markdown",
   "metadata": {},
   "source": [
    "# Influxdb\n"
   ]
  },
  {
   "cell_type": "code",
   "execution_count": 113,
   "metadata": {},
   "outputs": [],
   "source": [
    "from influxdb import InfluxDBClient\n",
    "import datetime"
   ]
  },
  {
   "cell_type": "code",
   "execution_count": 114,
   "metadata": {},
   "outputs": [],
   "source": [
    "client = InfluxDBClient('localhost', 8086, 'admin', 'admin','test')\n",
    "client.create_database('test')"
   ]
  },
  {
   "cell_type": "code",
   "execution_count": 115,
   "metadata": {},
   "outputs": [],
   "source": [
    "test = \"zap\"\n",
    "\n",
    "json_body = [\n",
    "    {\n",
    "        \"measurement\": \"test\",\n",
    "        \"tags\": {\n",
    "            \"host\": test,\n",
    "            \"region\": \"us-west\"\n",
    "        },\n",
    "        \"time\": datetime.datetime.now(),\n",
    "        \"fields\": {\n",
    "            \"value\": 5.0\n",
    "        }\n",
    "    }\n",
    "]"
   ]
  },
  {
   "cell_type": "code",
   "execution_count": 116,
   "metadata": {},
   "outputs": [
    {
     "data": {
      "text/plain": [
       "True"
      ]
     },
     "execution_count": 116,
     "metadata": {},
     "output_type": "execute_result"
    }
   ],
   "source": [
    "client.write_points(json_body)"
   ]
  },
  {
   "cell_type": "code",
   "execution_count": 117,
   "metadata": {},
   "outputs": [
    {
     "name": "stdout",
     "output_type": "stream",
     "text": [
      "Result: ResultSet({'('test', None)': [{'time': '2020-06-17T23:51:02.329669Z', 'host': 'zap', 'region': 'us-west', 'value': 1945.0}, {'time': '2020-06-17T23:51:58.669100Z', 'host': 'zap', 'region': 'us-west', 'value': 1945.0}, {'time': '2020-06-17T23:52:10.642943Z', 'host': 'zap', 'region': 'us-west', 'value': 1945.0}, {'time': '2020-06-17T23:54:30.891243Z', 'host': 'zap', 'region': 'us-west', 'value': 1945.0}, {'time': '2020-06-17T23:54:36.139558Z', 'host': 'zap', 'region': 'us-west', 'value': 1945.0}, {'time': '2020-06-17T23:54:40.037061Z', 'host': 'zap', 'region': 'us-west', 'value': 1945.0}, {'time': '2020-06-17T23:55:58.947554Z', 'host': 'zap', 'region': 'us-west', 'value': 1.0}, {'time': '2020-06-17T23:56:27.848329Z', 'host': 'zap', 'region': 'us-west', 'value': 5.0}]})\n"
     ]
    }
   ],
   "source": [
    "result = client.query('select * from test;')\n",
    "\n",
    "print(\"Result: {0}\".format(result))"
   ]
  }
 ],
 "metadata": {
  "kernelspec": {
   "display_name": "Python 3",
   "language": "python",
   "name": "python3"
  },
  "language_info": {
   "codemirror_mode": {
    "name": "ipython",
    "version": 3
   },
   "file_extension": ".py",
   "mimetype": "text/x-python",
   "name": "python",
   "nbconvert_exporter": "python",
   "pygments_lexer": "ipython3",
   "version": "3.7.6"
  }
 },
 "nbformat": 4,
 "nbformat_minor": 4
}
