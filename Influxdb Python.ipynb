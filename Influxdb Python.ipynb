{
 "cells": [
  {
   "cell_type": "markdown",
   "metadata": {},
   "source": [
    "# Influxdb\n"
   ]
  },
  {
   "cell_type": "code",
   "execution_count": 233,
   "metadata": {},
   "outputs": [],
   "source": [
    "from influxdb import InfluxDBClient\n",
    "import datetime\n",
    "import psutil\n",
    "import socket\n",
    "import time"
   ]
  },
  {
   "cell_type": "code",
   "execution_count": 234,
   "metadata": {},
   "outputs": [],
   "source": [
    "client = InfluxDBClient('localhost', 8086, 'admin', 'admin','test')\n",
    "client.create_database('test')"
   ]
  },
  {
   "cell_type": "code",
   "execution_count": 235,
   "metadata": {},
   "outputs": [],
   "source": [
    "cpu_usage = psutil.cpu_percent()"
   ]
  },
  {
   "cell_type": "code",
   "execution_count": 236,
   "metadata": {},
   "outputs": [],
   "source": [
    "\n",
    "json_body = [\n",
    "    {\n",
    "        \"measurement\": \"cpu_usage\",\n",
    "        \"tags\": {\n",
    "            \"hostname\": socket.gethostname()\n",
    "        },\n",
    "        \"time\": datetime.datetime.utcnow(),\n",
    "        \"fields\": {\n",
    "            \"value\": cpu_usage\n",
    "        }\n",
    "    }\n",
    "]"
   ]
  },
  {
   "cell_type": "code",
   "execution_count": 237,
   "metadata": {},
   "outputs": [
    {
     "data": {
      "text/plain": [
       "True"
      ]
     },
     "execution_count": 237,
     "metadata": {},
     "output_type": "execute_result"
    }
   ],
   "source": [
    "client.write_points(json_body)"
   ]
  },
  {
   "cell_type": "code",
   "execution_count": 238,
   "metadata": {},
   "outputs": [
    {
     "name": "stdout",
     "output_type": "stream",
     "text": [
      "Result: ResultSet({'('test', None)': [{'time': '2020-06-19T01:15:00.700628Z', 'cpu_usage': None, 'host': 'zap', 'region': 'us-west', 'value': 5.0}, {'time': '2020-06-19T01:32:02.731388Z', 'cpu_usage': '3.9', 'host': None, 'region': None, 'value': 3.9}]})\n"
     ]
    }
   ],
   "source": [
    "result = client.query('select * from test;')\n",
    "\n",
    "print(\"Result: {0}\".format(result))"
   ]
  },
  {
   "cell_type": "code",
   "execution_count": null,
   "metadata": {},
   "outputs": [],
   "source": []
  }
 ],
 "metadata": {
  "kernelspec": {
   "display_name": "Python 3",
   "language": "python",
   "name": "python3"
  },
  "language_info": {
   "codemirror_mode": {
    "name": "ipython",
    "version": 3
   },
   "file_extension": ".py",
   "mimetype": "text/x-python",
   "name": "python",
   "nbconvert_exporter": "python",
   "pygments_lexer": "ipython3",
   "version": "3.8.1"
  }
 },
 "nbformat": 4,
 "nbformat_minor": 4
}
