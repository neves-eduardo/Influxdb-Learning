{
 "cells": [
  {
   "cell_type": "markdown",
   "metadata": {},
   "source": [
    "# Influxdb\n"
   ]
  },
  {
   "cell_type": "markdown",
   "metadata": {},
   "source": [
    "### Dependências:"
   ]
  },
  {
   "cell_type": "code",
   "execution_count": 1,
   "metadata": {},
   "outputs": [],
   "source": [
    "from influxdb import InfluxDBClient\n",
    "import datetime\n",
    "import psutil\n",
    "import socket\n",
    "import time"
   ]
  },
  {
   "cell_type": "markdown",
   "metadata": {},
   "source": [
    "### Conexão e criação de banco:"
   ]
  },
  {
   "cell_type": "code",
   "execution_count": 2,
   "metadata": {},
   "outputs": [],
   "source": [
    "client = InfluxDBClient('localhost', 8086, 'admin', 'admin','test')\n",
    "client.create_database('test')"
   ]
  },
  {
   "cell_type": "markdown",
   "metadata": {},
   "source": [
    "### Criando json_body dos datapoints e enviando para o influxdb"
   ]
  },
  {
   "cell_type": "code",
   "execution_count": 3,
   "metadata": {},
   "outputs": [],
   "source": [
    "def generate_json_body():\n",
    "    cpu_usage = psutil.cpu_percent()\n",
    "    hostname = socket.gethostname()\n",
    "    json_body = [\n",
    "        {\n",
    "            \"measurement\": \"cpu_usage\",\n",
    "            \"tags\": {\n",
    "                \"hostname\": hostname\n",
    "            },\n",
    "            \"time\": datetime.datetime.utcnow(),\n",
    "            \"fields\": {\n",
    "                \"value\": cpu_usage\n",
    "            }\n",
    "        }\n",
    "    ]\n",
    "    return json_body"
   ]
  },
  {
   "cell_type": "code",
   "execution_count": 19,
   "metadata": {},
   "outputs": [
    {
     "name": "stdout",
     "output_type": "stream",
     "text": [
      "Result: ResultSet({'('test', None)': [{'time': '2020-06-19T01:15:00.700628Z', 'cpu_usage': None, 'host': 'zap', 'region': 'us-west', 'value': 5.0}, {'time': '2020-06-19T01:32:02.731388Z', 'cpu_usage': '3.9', 'host': None, 'region': None, 'value': 3.9}]})\n"
     ]
    }
   ],
   "source": [
    "result = client.query('select * from test;')\n",
    "\n",
    "print(\"Result: {0}\".format(result))"
   ]
  },
  {
   "cell_type": "markdown",
   "metadata": {},
   "source": [
    "### Inserindo datapoints no Influx"
   ]
  },
  {
   "cell_type": "code",
   "execution_count": 4,
   "metadata": {},
   "outputs": [],
   "source": [
    "for i in range(60):\n",
    "    client.write_points(generate_json_body())\n",
    "    time.sleep(1)"
   ]
  },
  {
   "cell_type": "code",
   "execution_count": null,
   "metadata": {},
   "outputs": [],
   "source": []
  }
 ],
 "metadata": {
  "kernelspec": {
   "display_name": "Python 3",
   "language": "python",
   "name": "python3"
  },
  "language_info": {
   "codemirror_mode": {
    "name": "ipython",
    "version": 3
   },
   "file_extension": ".py",
   "mimetype": "text/x-python",
   "name": "python",
   "nbconvert_exporter": "python",
   "pygments_lexer": "ipython3",
   "version": "3.8.1"
  }
 },
 "nbformat": 4,
 "nbformat_minor": 4
}
